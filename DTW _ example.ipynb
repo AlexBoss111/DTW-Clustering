{
 "cells": [
  {
   "cell_type": "code",
   "execution_count": null,
   "id": "fa8c4598",
   "metadata": {},
   "outputs": [],
   "source": [
    "import numpy\n",
    "import matplotlib.pyplot as plt\n",
    "import pandas as pd\n",
    "from tslearn.clustering import TimeSeriesKMeans\n",
    "from tslearn.datasets import CachedDatasets\n",
    "from tslearn.preprocessing import TimeSeriesScalerMeanVariance, \\\n",
    "    TimeSeriesResampler"
   ]
  },
  {
   "cell_type": "code",
   "execution_count": null,
   "id": "02ed9a03",
   "metadata": {},
   "outputs": [],
   "source": [
    "df = pd.read_csv('C:\\\\Users\\\\alexandre.lucas\\\\Desktop\\\\INESCTEC\\Asprela + Sustentavel - Living Labs Porto\\\\DATA_SET_DESAGREGADO_v.2.0.csv', sep=\";\")\n",
    "df.head()"
   ]
  },
  {
   "cell_type": "code",
   "execution_count": null,
   "id": "7352063b",
   "metadata": {},
   "outputs": [],
   "source": [
    "df1=df.drop(\"Horas\", axis=1)\n",
    "df1=df1.drop(\"HSJ_IPO_Metro_Cantina\", axis=1) #Outline\n",
    "df1=df1.drop(\"PTD_54\", axis=1) #Coluna com zeros\n",
    "#df1=df.drop(\"FEUP\", axis=1) #Comportamento atipico que cria o seu proprio cluster. Referenciá-lo à parte\n",
    "df1=df1.transpose()"
   ]
  },
  {
   "cell_type": "code",
   "execution_count": null,
   "id": "18d47c30",
   "metadata": {},
   "outputs": [],
   "source": [
    "df1.head()"
   ]
  },
  {
   "cell_type": "code",
   "execution_count": null,
   "id": "52c5dc0c",
   "metadata": {},
   "outputs": [],
   "source": [
    "df1.shape\n",
    "X_train=df1.iloc[0:87, 0:168]\n",
    "#X_train=df1\n",
    "X_train"
   ]
  },
  {
   "cell_type": "code",
   "execution_count": null,
   "id": "b1067764",
   "metadata": {},
   "outputs": [],
   "source": [
    "from sklearn import preprocessing\n",
    "x_scaled=preprocessing.scale(X_train)\n",
    "X_train=x_scaled\n",
    "X_train"
   ]
  },
  {
   "cell_type": "code",
   "execution_count": null,
   "id": "a90dc35a",
   "metadata": {},
   "outputs": [],
   "source": [
    "#X_train = TimeSeriesScalerMeanVariance().fit_transform(X_train)\n",
    "#X_train=X_train.iloc[1:300] #de 1 a x linhas todas a colunas\n",
    "#np.reshape(a, (2, 3)) # C-like index ordering\n",
    "#array([[0, 1, 2],\n",
    "#       [3, 4, 5]])\n",
    "\n",
    "#X_train = TimeSeriesResampler(sz=40).fit_transform(X_train) # Make time series shorter\n",
    "\n",
    "X_train.shape"
   ]
  },
  {
   "cell_type": "code",
   "execution_count": null,
   "id": "5983b942",
   "metadata": {},
   "outputs": [],
   "source": [
    "seed = 0\n",
    "numpy.random.seed(seed)\n",
    "sz = X_train.shape[1]"
   ]
  },
  {
   "cell_type": "code",
   "execution_count": null,
   "id": "9a8315af",
   "metadata": {},
   "outputs": [],
   "source": [
    "# Soft-DTW-k-means\n",
    "kmeans_kwargs = {\n",
    "                 \"metric\":\"softdtw\",\n",
    "                \"metric_params\":{\"gamma\": .01},\n",
    "                \"verbose\":True,\n",
    "                \"random_state\":seed,}\n",
    "\n",
    "# A list holds the SSE values for each k\n",
    "sse = []\n",
    "for k in range(1, 6):  \n",
    "    sdtw_km = TimeSeriesKMeans(n_clusters=k, **kmeans_kwargs)\n",
    "    y_pred = sdtw_km.fit_predict(X_train)\n",
    "    sse.append(sdtw_km.inertia_)"
   ]
  },
  {
   "cell_type": "code",
   "execution_count": null,
   "id": "f882f4ba",
   "metadata": {},
   "outputs": [],
   "source": [
    "plt.style.use(\"fivethirtyeight\")\n",
    "plt.plot(range(1, 6), sse)\n",
    "plt.xticks(range(1, 6))\n",
    "plt.xlabel(\"Number of Clusters\")\n",
    "plt.ylabel(\"SSE\")\n",
    "plt.show()"
   ]
  },
  {
   "cell_type": "code",
   "execution_count": null,
   "id": "3c091078",
   "metadata": {},
   "outputs": [],
   "source": [
    "# DTW-k-means\n",
    "print(\"DTW k-means\")\n",
    "dtw_km = TimeSeriesKMeans(n_clusters=2,\n",
    "                          n_init=2,\n",
    "                          metric=\"dtw\",\n",
    "                          verbose=True,\n",
    "                          max_iter_barycenter=10,\n",
    "                          random_state=seed)\n",
    "y_pred = dtw_km.fit_predict(X_train)"
   ]
  },
  {
   "cell_type": "code",
   "execution_count": null,
   "id": "a89bd0ea",
   "metadata": {},
   "outputs": [],
   "source": [
    "#plt.figure()\n",
    "plt.figure(figsize=(20,15))\n",
    "plt.subplots(figsize=(12, 4))\n",
    "font = {'family' : 'normal',\n",
    "        'weight' : 'normal',\n",
    "        'size'   : 14}\n",
    "\n",
    "plt.rc('font', **font)       \n",
    "\n",
    "for yi in range(2):\n",
    "    plt.subplot(1, 2, 1 + yi)\n",
    "    for xx in X_train[y_pred == yi]:\n",
    "        plt.plot(xx.ravel(), \"g-\", alpha=.2)\n",
    "    plt.plot(dtw_km.cluster_centers_[yi].ravel(), \"r-\")\n",
    "    plt.xlim(0, sz)\n",
    "#    plt.ylim(-1.5, 8)\n",
    "    plt.text(0.45, 0.9,'Cluster %d' % (yi + 1),\n",
    "             transform=plt.gca().transAxes)\n",
    "#    if yi == 1:\n",
    "#        plt.title(\"DTW $k$-means\")\n",
    "        \n",
    "\n",
    "plt.tight_layout()\n",
    "plt.show()"
   ]
  },
  {
   "cell_type": "code",
   "execution_count": null,
   "id": "0ed83f15",
   "metadata": {},
   "outputs": [],
   "source": [
    "dtw_km.labels_"
   ]
  },
  {
   "cell_type": "code",
   "execution_count": null,
   "id": "9cdfdcf8",
   "metadata": {},
   "outputs": [],
   "source": []
  }
 ],
 "metadata": {
  "kernelspec": {
   "display_name": "Python 3 (ipykernel)",
   "language": "python",
   "name": "python3"
  },
  "language_info": {
   "codemirror_mode": {
    "name": "ipython",
    "version": 3
   },
   "file_extension": ".py",
   "mimetype": "text/x-python",
   "name": "python",
   "nbconvert_exporter": "python",
   "pygments_lexer": "ipython3",
   "version": "3.11.3"
  }
 },
 "nbformat": 4,
 "nbformat_minor": 5
}
